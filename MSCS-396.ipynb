{
 "cells": [
  {
   "cell_type": "code",
   "execution_count": 1,
   "metadata": {},
   "outputs": [],
   "source": [
    "import string"
   ]
  },
  {
   "cell_type": "code",
   "execution_count": 2,
   "metadata": {},
   "outputs": [],
   "source": [
    "class Enigma:\n",
    "  def __init__(self):\n",
    "    \"\"\" A -> B, B -> A ... Y -> Z, Z -> Y \"\"\"\n",
    "    plugboard_mapping = {}\n",
    "    for i in range(0, 26, 2):\n",
    "      plugboard_mapping[string.ascii_uppercase[i]] = string.ascii_uppercase[i+1]\n",
    "      plugboard_mapping[string.ascii_uppercase[i+1]] = string.ascii_uppercase[i]\n",
    "\n",
    "    self.rotors = [Rotor(i, 0) for i in range(3)]\n",
    "    self.reflector = Reflector(1)\n",
    "    self.plugboard = Plugboard(plugboard_mapping)\n",
    "\n",
    "  def reset(self):\n",
    "    for rotor in self.rotors:\n",
    "      rotor.reset()\n",
    "\n",
    "  def encode(self, plaintext):\n",
    "    plaintext = plaintext.upper()\n",
    "    if not plaintext.isalpha():\n",
    "      print(\"Invalid plaintext!\")\n",
    "      pass\n",
    "    \n",
    "    ciphertext = \"\"\n",
    "    for plaintext_char in plaintext:\n",
    "      \"\"\" Normal Step \"\"\"\n",
    "      for i, rotor in enumerate(self.rotors):\n",
    "        print(i)\n",
    "        if (not rotor.rotate()):\n",
    "          break\n",
    "\n",
    "      \"\"\" Double Step \"\"\"\n",
    "      for turnover in self.rotors[1].turnovers:\n",
    "        \"\"\" gets the subsequent character mod the alphabet \"\"\"\n",
    "        notch = string.ascii_uppercase[(string.ascii_uppercase.index(turnover) + 1) % 26]\n",
    "        if string.ascii_uppercase[self.rotors[1].number_of_rotates % 26] == notch:\n",
    "          print('1')\n",
    "          if(self.rotors[1].rotate()):\n",
    "            print('2')\n",
    "            self.rotors[2].rotate()\n",
    "\n",
    "      index = self.plugboard.forward(plaintext_char)\n",
    "\n",
    "      for rotor in self.rotors:\n",
    "        index = rotor.forward(index)\n",
    "\n",
    "      index = self.reflector.forward(index)\n",
    "\n",
    "      for rotor in self.rotors:\n",
    "        index = rotor.reverse(index)\n",
    "\n",
    "      ciphertext_char = self.plugboard.reverse(index)\n",
    "      ciphertext += ciphertext_char\n",
    "\n",
    "    return ciphertext\n",
    "\n",
    "class Rotor:\n",
    "  def __init__(self, rotor_number, ring_offset):\n",
    "    self.rotor_number = rotor_number\n",
    "    self.settings = [\n",
    "      { \"sequence\": \"EKMFLGDQVZNTOWYHXUSPAIBRCJ\", \"turnovers\": [\"R\"]},\n",
    "      { \"sequence\": \"AJDKSIRUXBLHWTMCQGZNPYFVOE\", \"turnovers\": [\"F\"]},\n",
    "      { \"sequence\": \"BDFHJLCPRTXVZNYEIWGAKMUSQO\", \"turnovers\": [\"W\"]},\n",
    "      { \"sequence\": \"ESOVPZJAYQUIRHXLNFTGKDCMWB\", \"turnovers\": [\"K\"]},\n",
    "      { \"sequence\": \"VZBRGITYUPSDNHLXAWMJQOFECK\", \"turnovers\": [\"A\"]},\n",
    "      { \"sequence\": \"JPGVOUMFYQBENHZRDKASXLICTW\", \"turnovers\": [\"A\", \"N\"]},\n",
    "      { \"sequence\": \"NZJHGRCXMYSWBOUFAIVLPEKQDT\", \"turnovers\": [\"A\", \"N\"]},\n",
    "      { \"sequence\": \"FKQHTLXOCBJSPDZRAMEWNIUYGV\", \"turnovers\": [\"A\", \"N\"]},\n",
    "    ]\n",
    "    self.sequence = self.settings[self.rotor_number]['sequence']\n",
    "    self.turnovers = self.settings[self.rotor_number]['turnovers']\n",
    "    self.ring_offset = ring_offset\n",
    "    self.number_of_rotates = 0\n",
    "\n",
    "    for _ in range(self.ring_offset):\n",
    "      self.rotate()\n",
    "\n",
    "  def reset(self):\n",
    "    self.number_of_rotates = 0\n",
    "    self.sequence = self.settings[self.rotor_number]['sequence']\n",
    "    self.turnovers = self.settings[self.rotor_number]['turnovers']\n",
    "\n",
    "    for _ in range(self.ring_offset):\n",
    "      self.rotate()\n",
    "\n",
    "  def forward(self, index):\n",
    "    \"\"\" Returns the index of the character, in respect to the alphabet, after passing through the sequence \"\"\"\n",
    "    return string.ascii_uppercase.index(self.sequence[index])\n",
    "\n",
    "  def reverse(self, index):\n",
    "    \"\"\" Returns the index of the character, in respect to the sequence, after passing through the alphabet \"\"\"\n",
    "    return self.sequence.index(string.ascii_uppercase[index])\n",
    "\n",
    "  def rotate(self):\n",
    "    self.number_of_rotates += 1\n",
    "    self.sequence = self.sequence[1:] + self.sequence[:1]\n",
    "    for char in self.turnovers:\n",
    "      if char == string.ascii_uppercase[self.number_of_rotates % 26]:\n",
    "        return True\n",
    "    return False\n",
    "\n",
    "class Reflector:\n",
    "  def __init__(self, reflector_number):\n",
    "    settings = [\n",
    "      \"EJMZALYXVBWFCRQUONTSPIKHGD\",\n",
    "      \"YRUHQSLDPXNGOKMIEBFZCWVJAT\",\n",
    "      \"FVPJIAOYEDRZXWGCTKUQSBNMHL\",\n",
    "    ]\n",
    "    self.sequence = settings[reflector_number]\n",
    "\n",
    "  def forward(self, index):\n",
    "    \"\"\" Returns the index of the character, in respect to the sequence, after passing through the alphabet \"\"\"\n",
    "    return self.sequence.index(string.ascii_uppercase[index])\n",
    "\n",
    "class Plugboard:\n",
    "  def __init__(self, mapping):\n",
    "    self.mapping = mapping\n",
    "\n",
    "  def forward(self, char):\n",
    "    \"\"\" Returns the index of the mapped character \"\"\"\n",
    "    return string.ascii_uppercase.index(self.mapping[char])\n",
    "\n",
    "  def reverse(self, index):\n",
    "    \"\"\" Returns the character of the index \"\"\"\n",
    "    return self.mapping[string.ascii_uppercase[index]]"
   ]
  },
  {
   "cell_type": "code",
   "execution_count": 3,
   "metadata": {},
   "outputs": [],
   "source": [
    "enigma = Enigma()"
   ]
  },
  {
   "cell_type": "code",
   "execution_count": 4,
   "metadata": {},
   "outputs": [
    {
     "name": "stdout",
     "output_type": "stream",
     "text": [
      "0\n",
      "0\n",
      "0\n",
      "0\n"
     ]
    },
    {
     "data": {
      "text/plain": [
       "'VQPD'"
      ]
     },
     "execution_count": 4,
     "metadata": {},
     "output_type": "execute_result"
    }
   ],
   "source": [
    "enigma.encode('EVAN')"
   ]
  },
  {
   "cell_type": "code",
   "execution_count": 5,
   "metadata": {},
   "outputs": [
    {
     "name": "stdout",
     "output_type": "stream",
     "text": [
      "0\n"
     ]
    },
    {
     "data": {
      "text/plain": [
       "'M'"
      ]
     },
     "execution_count": 5,
     "metadata": {},
     "output_type": "execute_result"
    }
   ],
   "source": [
    "enigma.reset()\n",
    "enigma.encode('l')"
   ]
  },
  {
   "cell_type": "code",
   "execution_count": null,
   "metadata": {},
   "outputs": [],
   "source": []
  }
 ],
 "metadata": {
  "interpreter": {
   "hash": "0f8cd87952bc4d263d98f1beaa42c4301d8eaf945c7ea7255e40cfc9774d6c1a"
  },
  "kernelspec": {
   "display_name": "Python 3.9.7 ('MSCS-basic')",
   "language": "python",
   "name": "python3"
  },
  "language_info": {
   "codemirror_mode": {
    "name": "ipython",
    "version": 3
   },
   "file_extension": ".py",
   "mimetype": "text/x-python",
   "name": "python",
   "nbconvert_exporter": "python",
   "pygments_lexer": "ipython3",
   "version": "3.9.7"
  },
  "orig_nbformat": 4
 },
 "nbformat": 4,
 "nbformat_minor": 2
}
