{
 "cells": [
  {
   "cell_type": "code",
   "execution_count": 1,
   "metadata": {},
   "outputs": [],
   "source": [
    "import string"
   ]
  },
  {
   "cell_type": "code",
   "execution_count": 2,
   "metadata": {},
   "outputs": [],
   "source": [
    "class Enigma:\n",
    "  def __init__(self, rotor_settings=None, reflector_letter=\"B\", plugboard_settings=None):\n",
    "    if rotor_settings == None:\n",
    "      rotor_settings = [('III', 0), ('II', 0), ('I', 0)]\n",
    "    if plugboard_settings == None:\n",
    "      plugboard_settings = []\n",
    "\n",
    "    self.rotors = [Rotor(rotor_number, ring_offset) for rotor_number, ring_offset in rotor_settings]\n",
    "    self.reflector = Reflector(reflector_letter)\n",
    "    self.plugboard = Plugboard(plugboard_settings)\n",
    "\n",
    "  \"\"\" Resets the Enigma machine \"\"\"\n",
    "  def reset(self):\n",
    "    for rotor in self.rotors:\n",
    "      rotor.reset()\n",
    "\n",
    "  \"\"\" Encodes plaintext \"\"\"\n",
    "  def encode_plaintext(self, plaintext):\n",
    "    plaintext = plaintext.upper()\n",
    "    if not plaintext.isalpha():\n",
    "      print(\"Invalid plaintext!\")\n",
    "      pass\n",
    "    \n",
    "    ciphertext = \"\"\n",
    "    for char in plaintext:\n",
    "      ciphertext += self.encode(char)\n",
    "\n",
    "    return ciphertext\n",
    "\n",
    "  \"\"\" Encodes one character \"\"\"\n",
    "  def encode(self, char):\n",
    "    # Normal Step\n",
    "    for rotor in self.rotors:\n",
    "      # Rotate the next rotor if it hits a turnover\n",
    "      if (not rotor.rotate()):\n",
    "        break\n",
    "\n",
    "    # Double Step\n",
    "    for turnover in self.rotors[1].turnovers:\n",
    "      # the subsequent character mod len(alphabet)\n",
    "      notch = string.ascii_uppercase[(string.ascii_uppercase.index(turnover) + 1) % len(string.ascii_uppercase)]\n",
    "      if string.ascii_uppercase[self.rotors[1].number_of_rotates % len(string.ascii_uppercase)] == notch:\n",
    "        # Rotate the third rotor if the second rotor hits a turnover\n",
    "        if(self.rotors[1].rotate()):\n",
    "          self.rotors[2].rotate()\n",
    "\n",
    "    # Input character, goes through the plugboard, and returns an index\n",
    "    index = self.plugboard.forward(char)\n",
    "\n",
    "    # Input index to rotors from right to left\n",
    "    for rotor in self.rotors:\n",
    "      index = rotor.forward(index)\n",
    "\n",
    "    # Input index into the reflector\n",
    "    index = self.reflector.forward(index)\n",
    "\n",
    "    # Input character, goes through the plugboard, and returns an index\n",
    "    for rotor in reversed(self.rotors):\n",
    "      index = rotor.reverse(index)\n",
    "\n",
    "    # Input index, goes through the plugboard, and returns a character\n",
    "    return self.plugboard.reverse(index)\n",
    "\n",
    "class Rotor:\n",
    "  def __init__(self, rotor_number, ring_offset):\n",
    "    self.rotor_number = rotor_number\n",
    "    self.settings = {\n",
    "      \"I\": { \"sequence\": \"EKMFLGDQVZNTOWYHXUSPAIBRCJ\", \"turnovers\": [\"R\"]},\n",
    "      \"II\": { \"sequence\": \"AJDKSIRUXBLHWTMCQGZNPYFVOE\", \"turnovers\": [\"F\"]},\n",
    "      \"III\": { \"sequence\": \"BDFHJLCPRTXVZNYEIWGAKMUSQO\", \"turnovers\": [\"W\"]},\n",
    "      \"IV\": { \"sequence\": \"ESOVPZJAYQUIRHXLNFTGKDCMWB\", \"turnovers\": [\"K\"]},\n",
    "      \"V\": { \"sequence\": \"VZBRGITYUPSDNHLXAWMJQOFECK\", \"turnovers\": [\"A\"]},\n",
    "      \"VI\": { \"sequence\": \"JPGVOUMFYQBENHZRDKASXLICTW\", \"turnovers\": [\"A\", \"N\"]},\n",
    "      \"VII\": { \"sequence\": \"NZJHGRCXMYSWBOUFAIVLPEKQDT\", \"turnovers\": [\"A\", \"N\"]},\n",
    "      \"VIII\": { \"sequence\": \"FKQHTLXOCBJSPDZRAMEWNIUYGV\", \"turnovers\": [\"A\", \"N\"]},\n",
    "    }\n",
    "    self.sequence = self.settings[self.rotor_number][\"sequence\"]\n",
    "    self.turnovers = self.settings[self.rotor_number][\"turnovers\"]\n",
    "    self.ring_offset = ring_offset\n",
    "    self.number_of_rotates = 0\n",
    "\n",
    "    for _ in range(self.ring_offset):\n",
    "      self.rotate()\n",
    "\n",
    "  \"\"\" Resets the rotors to the initial state \"\"\"\n",
    "  def reset(self):\n",
    "    self.number_of_rotates = 0\n",
    "    self.sequence = self.settings[self.rotor_number][\"sequence\"]\n",
    "    self.turnovers = self.settings[self.rotor_number][\"turnovers\"]\n",
    "\n",
    "    for _ in range(self.ring_offset):\n",
    "      self.rotate()\n",
    "\n",
    "  \"\"\" Returns the index of the character, in respect to the alphabet, after passing through the sequence \"\"\"\n",
    "  def reverse(self, index):\n",
    "    return string.ascii_uppercase.index(self.sequence[index])\n",
    "\n",
    "  \"\"\" Returns the index of the character, in respect to the sequence, after passing through the alphabet \"\"\"\n",
    "  def forward(self, index):\n",
    "    return self.sequence.index(string.ascii_uppercase[index])\n",
    "\n",
    "\n",
    "  \"\"\" Rotates the rotors \"\"\"\n",
    "  def rotate(self):\n",
    "    self.number_of_rotates += 1\n",
    "    self.sequence = self.sequence[1:] + self.sequence[:1]\n",
    "    for char in self.turnovers:\n",
    "      if char == string.ascii_uppercase[self.number_of_rotates % len(string.ascii_uppercase)]:\n",
    "        return True\n",
    "    return False\n",
    "\n",
    "class Reflector:\n",
    "  def __init__(self, reflector_letter):\n",
    "    settings = {\n",
    "      \"A\": \"EJMZALYXVBWFCRQUONTSPIKHGD\",\n",
    "      \"B\": \"YRUHQSLDPXNGOKMIEBFZCWVJAT\",\n",
    "      \"C\": \"FVPJIAOYEDRZXWGCTKUQSBNMHL\",\n",
    "    }\n",
    "    self.sequence = settings[reflector_letter]\n",
    "\n",
    "  \"\"\" Returns the index of the character, in respect to the sequence, after passing through the alphabet \"\"\"\n",
    "  def forward(self, index):\n",
    "    return self.sequence.index(string.ascii_uppercase[index])\n",
    "\n",
    "class Plugboard:\n",
    "  def __init__(self, mapping):\n",
    "    # mapping = [(\"A\", \"B\"), (\"C\", \"D\")]\n",
    "    self.mapping = {}\n",
    "\n",
    "    for char in string.ascii_uppercase:\n",
    "      self.mapping[char] = char\n",
    "\n",
    "    for a, b in mapping:\n",
    "      self.mapping[a] = b\n",
    "      self.mapping[b] = a\n",
    "\n",
    "  \"\"\" Returns the index of the mapped character \"\"\"\n",
    "  def forward(self, char):\n",
    "    return string.ascii_uppercase.index(self.mapping[char])\n",
    "\n",
    "  \"\"\" Returns the character of the index \"\"\"\n",
    "  def reverse(self, index):\n",
    "    return self.mapping[string.ascii_uppercase[index]]"
   ]
  },
  {
   "cell_type": "code",
   "execution_count": 3,
   "metadata": {},
   "outputs": [
    {
     "data": {
      "text/plain": [
       "'NOVD'"
      ]
     },
     "execution_count": 3,
     "metadata": {},
     "output_type": "execute_result"
    }
   ],
   "source": [
    "enigma = Enigma()\n",
    "enigma.encode_plaintext('EVAN')"
   ]
  },
  {
   "cell_type": "code",
   "execution_count": 4,
   "metadata": {},
   "outputs": [
    {
     "data": {
      "text/plain": [
       "'EVAN'"
      ]
     },
     "execution_count": 4,
     "metadata": {},
     "output_type": "execute_result"
    }
   ],
   "source": [
    "enigma.reset()\n",
    "enigma.encode_plaintext('NOVD')"
   ]
  },
  {
   "cell_type": "code",
   "execution_count": null,
   "metadata": {},
   "outputs": [],
   "source": []
  }
 ],
 "metadata": {
  "interpreter": {
   "hash": "0f8cd87952bc4d263d98f1beaa42c4301d8eaf945c7ea7255e40cfc9774d6c1a"
  },
  "kernelspec": {
   "display_name": "Python 3.9.7 ('MSCS-basic')",
   "language": "python",
   "name": "python3"
  },
  "language_info": {
   "codemirror_mode": {
    "name": "ipython",
    "version": 3
   },
   "file_extension": ".py",
   "mimetype": "text/x-python",
   "name": "python",
   "nbconvert_exporter": "python",
   "pygments_lexer": "ipython3",
   "version": "3.9.7"
  },
  "orig_nbformat": 4
 },
 "nbformat": 4,
 "nbformat_minor": 2
}
